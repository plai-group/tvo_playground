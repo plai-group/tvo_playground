{
 "cells": [
  {
   "cell_type": "markdown",
   "metadata": {},
   "source": [
    "### Development notebook\n",
    "- Don't write new classes directly from main.py! What happens is you will need to use the debugger, which is just a shittier jupyter notebook. Better to just start from the notebook, using ssh tunnels from remote to local. Also this avoids dealing w/ sacred and wandb overhead when you don't need it\n",
    "- Better to manually copy code from repo into an self-contained jupyter notebook, get it working here first, then move working code into the main repo and only use the debugger for small tweaks\n",
    "- copy this notebook when writing a new class"
   ]
  },
  {
   "cell_type": "code",
   "execution_count": 17,
   "metadata": {},
   "outputs": [
    {
     "name": "stdout",
     "output_type": "stream",
     "text": [
      "/ubc/cs/research/fwood/vadmas/dev/projects/active/tvo_icml\n"
     ]
    }
   ],
   "source": [
    "# set absolute path to repo (*don't* use cd ..)\n",
    "%cd /ubc/cs/research/fwood/vadmas/dev/projects/active/tvo_icml/\n",
    "# put all boilerplate here\n",
    "%run ./notebooks/init.ipynb\n"
   ]
  },
  {
   "cell_type": "code",
   "execution_count": 18,
   "metadata": {},
   "outputs": [],
   "source": [
    "from types import SimpleNamespace\n",
    "import torch"
   ]
  },
  {
   "cell_type": "code",
   "execution_count": null,
   "metadata": {},
   "outputs": [],
   "source": []
  },
  {
   "cell_type": "code",
   "execution_count": 19,
   "metadata": {},
   "outputs": [],
   "source": [
    "# set hypers here\n",
    "args = SimpleNamespace()\n",
    "\n",
    "args.learning_task = 'continuous_vae'\n",
    "args.data_path = './data/mnist.pkl'\n",
    "args.device = torch.device('cpu') \n",
    "args.batch_size = 1000\n",
    "args.test_batch_size = 1\n",
    "args.num_stochastic_layers = 1\n",
    "args.num_deterministic_layers = 2\n",
    "args.hidden_dim = 100 \n",
    "args.latent_dim = 25\n",
    "args.learn_prior = False\n",
    "args.loss = 'tvo'\n",
    "args.activation = torch.nn.ReLU()\n",
    "args.integration = \"trapz\"\n",
    "args.K = 7\n",
    "args.S = 10\n",
    "args.lr = 0.001\n",
    "args.log_beta_min = -1.602\n",
    "args.schedule = 'log'"
   ]
  },
  {
   "cell_type": "code",
   "execution_count": 20,
   "metadata": {},
   "outputs": [],
   "source": [
    "# import whatever you need from src"
   ]
  },
  {
   "cell_type": "code",
   "execution_count": 21,
   "metadata": {},
   "outputs": [],
   "source": [
    "from src.data_handler import StochasticMNIST, make_continuous_vae_data"
   ]
  },
  {
   "cell_type": "code",
   "execution_count": 22,
   "metadata": {},
   "outputs": [],
   "source": [
    "# get data\n",
    "train_data_loader, test_data_loader = make_continuous_vae_data(args)\n",
    "args.train_data_loader = train_data_loader\n",
    "args.test_data_loader = test_data_loader\n"
   ]
  },
  {
   "cell_type": "code",
   "execution_count": 23,
   "metadata": {},
   "outputs": [],
   "source": [
    "# for example, to write a new VAE class I would  copy the code here:"
   ]
  },
  {
   "cell_type": "code",
   "execution_count": 24,
   "metadata": {},
   "outputs": [],
   "source": [
    "from src.models.vaes import VAEBaseClass"
   ]
  },
  {
   "cell_type": "code",
   "execution_count": 25,
   "metadata": {},
   "outputs": [],
   "source": [
    "from src.models.base import ProbModelBaseClass\n",
    "from src.models.mlp import init_mlp, init_two_prong_mlp\n",
    "import torch\n",
    "from torch.distributions import Independent\n",
    "import torch.nn as nn\n",
    "from src import util\n"
   ]
  },
  {
   "cell_type": "code",
   "execution_count": 26,
   "metadata": {},
   "outputs": [],
   "source": [
    "class ContinuousVAE(VAEBaseClass):\n",
    "    def __init__(self, D, args):\n",
    "        super().__init__(D, args)\n",
    "        if self.args.learn_prior:\n",
    "            print(\"Learning prior\")\n",
    "            self.decoder_latent_param_mu = nn.Parameter(torch.zeros(\n",
    "                self.latent_dims[0], device=self.args.device, dtype=torch.float))\n",
    "            self.decoder_latent_param_sig = nn.Parameter(torch.ones(\n",
    "                self.latent_dims[0], device=self.args.device, dtype=torch.float))\n",
    "        else:\n",
    "            self.decoder_latent_param_mu = torch.zeros(\n",
    "                self.latent_dims[0], device=self.args.device, dtype=torch.float)\n",
    "            self.decoder_latent_param_sig = torch.ones(\n",
    "                self.latent_dims[0], device=self.args.device, dtype=torch.float)\n",
    "\n",
    "        self.layer_0_params = (self.decoder_latent_param_mu,\n",
    "                               self.decoder_latent_param_sig)\n",
    "\n",
    "        self.decoders = nn.ModuleDict()\n",
    "        for i in range(1, self.num_stochastic_layers):\n",
    "            self.decoders[str(i)] = init_two_prong_mlp(in_dim=self.latent_dims[i - 1],\n",
    "                                                       out_dim=self.latent_dims[i],\n",
    "                                                       hidden_dim=self.hidden_dim,\n",
    "                                                       num_layers=self.num_deterministic_layers,\n",
    "                                                       non_linearity=self.activation)\n",
    "\n",
    "        # This is the mlp from discrete.py that doesn't produce a sigma\n",
    "        self.decoder_to_obs = init_mlp(in_dim=self.latent_dims[-1],\n",
    "                                       out_dim=self.D,\n",
    "                                       hidden_dim=self.hidden_dim,\n",
    "                                       num_layers=self.num_deterministic_layers,\n",
    "                                       non_linearity=self.activation)\n",
    "\n",
    "        self.encoder_to_obs = init_two_prong_mlp(in_dim=self.D,\n",
    "                                                 out_dim=self.latent_dims[-1],\n",
    "                                                 hidden_dim=self.hidden_dim,\n",
    "                                                 num_layers=self.num_deterministic_layers,\n",
    "                                                 non_linearity=self.activation)\n",
    "\n",
    "        self.encoders = nn.ModuleDict()\n",
    "        for i in reversed(range(self.num_stochastic_layers - 1)):\n",
    "            self.encoders[str(i)] = init_two_prong_mlp(in_dim=self.latent_dims[i + 1],\n",
    "                                                       out_dim=self.latent_dims[i],\n",
    "                                                       hidden_dim=self.hidden_dim,\n",
    "                                                       num_layers=self.num_deterministic_layers,\n",
    "                                                       non_linearity=self.activation)"
   ]
  },
  {
   "cell_type": "code",
   "execution_count": 27,
   "metadata": {},
   "outputs": [
    {
     "name": "stdout",
     "output_type": "stream",
     "text": [
      "Reparam turned: OFF\n"
     ]
    }
   ],
   "source": [
    "# get your model\n",
    "D = train_data_loader.dataset.image.shape[1]\n",
    "model = ContinuousVAE(D, args)"
   ]
  },
  {
   "cell_type": "code",
   "execution_count": 28,
   "metadata": {},
   "outputs": [],
   "source": [
    "# get a single datapoint (no need to write a training loop)"
   ]
  },
  {
   "cell_type": "code",
   "execution_count": 29,
   "metadata": {},
   "outputs": [],
   "source": [
    "data=next(iter(train_data_loader))"
   ]
  },
  {
   "cell_type": "code",
   "execution_count": 30,
   "metadata": {},
   "outputs": [],
   "source": [
    "# manually set internals\n",
    "model.set_internals(data)"
   ]
  },
  {
   "cell_type": "code",
   "execution_count": 31,
   "metadata": {},
   "outputs": [],
   "source": [
    "# now do something"
   ]
  },
  {
   "cell_type": "code",
   "execution_count": 32,
   "metadata": {},
   "outputs": [
    {
     "data": {
      "image/png": "[encoded data removed]",
      "text/plain": [
       "<Figure size 432x288 with 1 Axes>"
      ]
     },
     "metadata": {
      "image/png": {
       "height": 248,
       "width": 251
      },
      "needs_background": "light"
     },
     "output_type": "display_data"
    }
   ],
   "source": [
    "# plot\n",
    "plt.imshow(model.sample_model_obs().numpy().reshape((28, 28)), cmap='gray')\n",
    "plt.show()"
   ]
  },
  {
   "cell_type": "code",
   "execution_count": null,
   "metadata": {},
   "outputs": [],
   "source": []
  },
  {
   "cell_type": "code",
   "execution_count": null,
   "metadata": {},
   "outputs": [],
   "source": []
  },
  {
   "cell_type": "code",
   "execution_count": null,
   "metadata": {},
   "outputs": [],
   "source": []
  },
  {
   "cell_type": "code",
   "execution_count": null,
   "metadata": {},
   "outputs": [],
   "source": []
  }
 ],
 "metadata": {
  "kernelspec": {
   "display_name": "Python 3",
   "language": "python",
   "name": "python3"
  },
  "language_info": {
   "codemirror_mode": {
    "name": "ipython",
    "version": 3
   },
   "file_extension": ".py",
   "mimetype": "text/x-python",
   "name": "python",
   "nbconvert_exporter": "python",
   "pygments_lexer": "ipython3",
   "version": "3.6.10"
  }
 },
 "nbformat": 4,
 "nbformat_minor": 2
}
